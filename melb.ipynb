{
 "cells": [
  {
   "cell_type": "code",
   "execution_count": 37,
   "metadata": {},
   "outputs": [
    {
     "name": "stdout",
     "output_type": "stream",
     "text": [
      "Index(['Suburb', 'Address', 'Rooms', 'Type', 'Price', 'Method', 'SellerG',\n",
      "       'Date', 'Distance', 'Postcode', 'Bedroom2', 'Bathroom', 'Car',\n",
      "       'Landsize', 'BuildingArea', 'YearBuilt', 'CouncilArea', 'Lattitude',\n",
      "       'Longtitude', 'Regionname', 'Propertycount'],\n",
      "      dtype='object')\n",
      "Rows: 13580\n",
      "mean room: 2.9379970544919, mean price: 1075684.079455081\n"
     ]
    },
    {
     "data": {
      "text/plain": [
       "1         S\n",
       "2        SP\n",
       "4        VB\n",
       "6         S\n",
       "7         S\n",
       "         ..\n",
       "12205     S\n",
       "12206    VB\n",
       "12207    SP\n",
       "12209    PI\n",
       "12212    VB\n",
       "Name: Method, Length: 6196, dtype: object"
      ]
     },
     "execution_count": 37,
     "metadata": {},
     "output_type": "execute_result"
    }
   ],
   "source": [
    "import pandas as pd\n",
    "import numpy as np\n",
    "import matplotlib.pyplot as plt\n",
    "df = pd.read_csv('melb_data.csv')\n",
    "\n",
    "print(df.columns)\n",
    "print(f'Rows: {df.shape[0]}')\n",
    "print(f'mean room: {df[\"Rooms\"].mean()}, mean price: {df[\"Price\"].mean()}')\n",
    "\n",
    "\n",
    "df = df.dropna(axis=0)\n",
    "df['Method']"
   ]
  },
  {
   "cell_type": "code",
   "execution_count": 36,
   "metadata": {},
   "outputs": [
    {
     "name": "stdout",
     "output_type": "stream",
     "text": [
      "0.4946945776934043\n"
     ]
    }
   ],
   "source": [
    "from sklearn.linear_model import LinearRegression \n",
    "from sklearn.model_selection import train_test_split\n",
    "from sklearn.metrics import r2_score\n",
    "\n",
    "x_train, x_test, y_train, y_test = train_test_split(\n",
    "    df[['Rooms','Bathroom', 'Landsize','Distance','BuildingArea','Car','Bedroom2','YearBuilt']], df[['Price']], test_size=0.3, random_state=5)\n",
    "\n",
    "reg = LinearRegression()\n",
    "reg.fit(x_train,y_train)\n",
    "\n",
    "pred = reg.predict(x_test)\n",
    "\n",
    "print(r2_score(y_test,pred))"
   ]
  }
 ],
 "metadata": {
  "kernelspec": {
   "display_name": "base",
   "language": "python",
   "name": "python3"
  },
  "language_info": {
   "codemirror_mode": {
    "name": "ipython",
    "version": 3
   },
   "file_extension": ".py",
   "mimetype": "text/x-python",
   "name": "python",
   "nbconvert_exporter": "python",
   "pygments_lexer": "ipython3",
   "version": "3.11.4"
  },
  "orig_nbformat": 4
 },
 "nbformat": 4,
 "nbformat_minor": 2
}
