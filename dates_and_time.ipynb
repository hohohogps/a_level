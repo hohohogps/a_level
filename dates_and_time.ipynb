{
 "cells": [
  {
   "cell_type": "code",
   "execution_count": 1,
   "metadata": {},
   "outputs": [
    {
     "name": "stdout",
     "output_type": "stream",
     "text": [
      "Today is: 2024-09-11 13:17:49.236501\n",
      "2024 9 11\n",
      "Adding 5 days to 2020-02-28 :\n",
      "New date: 2020-03-04\n",
      "Time difference: 5 days, 0:00:00\n",
      "date and time: 03/04/2020, 00:00:00\n"
     ]
    }
   ],
   "source": [
    "import datetime as dt\n",
    "today = dt.datetime.today()\n",
    "\n",
    "print('Today is:', today)\n",
    "\n",
    "original_date = dt.date(2020, 2, 28)\n",
    "days_to_add = dt.timedelta(days=5)\n",
    "print(today.year, today.month, today.day)\n",
    "print('Adding 5 days to', original_date,':')\n",
    "new_date = original_date+days_to_add\n",
    "print(f'New date: {new_date}')\n",
    "\n",
    "print(f'Time difference: {new_date - original_date}')\n",
    "new_date_str = new_date.strftime(\"%m/%d/%Y, %H:%M:%S\")\n",
    "print(\"date and time:\", new_date_str)\t"
   ]
  },
  {
   "cell_type": "code",
   "execution_count": 7,
   "metadata": {},
   "outputs": [
    {
     "name": "stdout",
     "output_type": "stream",
     "text": [
      "1 day, 0:00:00\n"
     ]
    }
   ],
   "source": [
    "import datetime as dt\n",
    "def birthday(date):\n",
    "    today = dt.date.today()\n",
    "    date= date.replace(year=today.year)\n",
    "\n",
    "    if date > today:\n",
    "        print(date-today)\n",
    "    elif date == today:\n",
    "        print(date-today)\n",
    "    else:\n",
    "        date= date.replace(year=date.year+1)\n",
    "        print(date-today)\n",
    "\n",
    "birthday(dt.date(2008, 9, 17))"
   ]
  },
  {
   "cell_type": "markdown",
   "metadata": {},
   "source": [
    "trvial for christmas"
   ]
  }
 ],
 "metadata": {
  "kernelspec": {
   "display_name": "base",
   "language": "python",
   "name": "python3"
  },
  "language_info": {
   "codemirror_mode": {
    "name": "ipython",
    "version": 3
   },
   "file_extension": ".py",
   "mimetype": "text/x-python",
   "name": "python",
   "nbconvert_exporter": "python",
   "pygments_lexer": "ipython3",
   "version": "3.11.4"
  },
  "orig_nbformat": 4
 },
 "nbformat": 4,
 "nbformat_minor": 2
}
