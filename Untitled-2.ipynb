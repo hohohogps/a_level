{
 "cells": [
  {
   "cell_type": "code",
   "execution_count": 1,
   "metadata": {},
   "outputs": [
    {
     "name": "stdout",
     "output_type": "stream",
     "text": [
      "Today is: 2024-09-11 13:17:49.236501\n",
      "2024 9 11\n",
      "Adding 5 days to 2020-02-28 :\n",
      "New date: 2020-03-04\n",
      "Time difference: 5 days, 0:00:00\n",
      "date and time: 03/04/2020, 00:00:00\n"
     ]
    }
   ],
   "source": [
    "import datetime as dt\n",
    "today = dt.datetime.today()\n",
    "\n",
    "print('Today is:', today)\n",
    "\n",
    "original_date = dt.date(2020, 2, 28)\n",
    "days_to_add = dt.timedelta(days=5)\n",
    "print(today.year, today.month, today.day)\n",
    "print('Adding 5 days to', original_date,':')\n",
    "new_date = original_date+days_to_add\n",
    "print(f'New date: {new_date}')\n",
    "\n",
    "print(f'Time difference: {new_date - original_date}')\n",
    "new_date_str = new_date.strftime(\"%m/%d/%Y, %H:%M:%S\")\n",
    "print(\"date and time:\", new_date_str)\t"
   ]
  },
  {
   "cell_type": "code",
   "execution_count": 10,
   "metadata": {},
   "outputs": [
    {
     "name": "stdout",
     "output_type": "stream",
     "text": [
      "105 days, 0:00:00\n"
     ]
    },
    {
     "ename": "TypeError",
     "evalue": "float() argument must be a string or a real number, not 'datetime.timedelta'",
     "output_type": "error",
     "traceback": [
      "\u001b[1;31m---------------------------------------------------------------------------\u001b[0m",
      "\u001b[1;31mTypeError\u001b[0m                                 Traceback (most recent call last)",
      "Cell \u001b[1;32mIn[10], line 16\u001b[0m\n\u001b[0;32m     14\u001b[0m         \u001b[39mreturn\u001b[39;00m \u001b[39m365\u001b[39m\u001b[39m+\u001b[39mdiff\n\u001b[0;32m     15\u001b[0m \u001b[39mprint\u001b[39m(christmas())\n\u001b[1;32m---> 16\u001b[0m \u001b[39mprint\u001b[39m(birthday())\n",
      "Cell \u001b[1;32mIn[10], line 11\u001b[0m, in \u001b[0;36mbirthday\u001b[1;34m(month, day)\u001b[0m\n\u001b[0;32m      9\u001b[0m birthday \u001b[39m=\u001b[39m dt\u001b[39m.\u001b[39mdate(today\u001b[39m.\u001b[39myear,month,day)\n\u001b[0;32m     10\u001b[0m diff \u001b[39m=\u001b[39m birthday\u001b[39m-\u001b[39mnow\n\u001b[1;32m---> 11\u001b[0m \u001b[39mif\u001b[39;00m \u001b[39mfloat\u001b[39m(diff) \u001b[39m>\u001b[39m\u001b[39m=\u001b[39m \u001b[39m0\u001b[39m:\n\u001b[0;32m     12\u001b[0m     \u001b[39mreturn\u001b[39;00m diff\n\u001b[0;32m     13\u001b[0m \u001b[39melse\u001b[39;00m:\n",
      "\u001b[1;31mTypeError\u001b[0m: float() argument must be a string or a real number, not 'datetime.timedelta'"
     ]
    }
   ],
   "source": [
    "def christmas():\n",
    "    christmas = dt.date(today.year, 12, 25)\n",
    "    now = dt.date(today.year,today.month,today.day)\n",
    "    diff = christmas-now\n",
    "    return diff\n",
    "\n",
    "def birthday(month=1,day=1):\n",
    "    now = dt.date(today.year,today.month,today.day)\n",
    "    birthday = dt.date(today.year,month,day)\n",
    "    birthday.seconds\n",
    "    \n",
    "    diff = birthday-now\n",
    "\n",
    "    \n",
    "print(christmas())\n",
    "print(birthday())"
   ]
  }
 ],
 "metadata": {
  "kernelspec": {
   "display_name": "base",
   "language": "python",
   "name": "python3"
  },
  "language_info": {
   "codemirror_mode": {
    "name": "ipython",
    "version": 3
   },
   "file_extension": ".py",
   "mimetype": "text/x-python",
   "name": "python",
   "nbconvert_exporter": "python",
   "pygments_lexer": "ipython3",
   "version": "3.11.4"
  },
  "orig_nbformat": 4
 },
 "nbformat": 4,
 "nbformat_minor": 2
}
